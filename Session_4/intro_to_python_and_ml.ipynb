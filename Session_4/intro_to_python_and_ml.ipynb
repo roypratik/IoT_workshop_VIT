{
 "cells": [
  {
   "cell_type": "markdown",
   "id": "8bfea5a8",
   "metadata": {},
   "source": [
    "\n",
    "# Introduction to Python\n",
    "\n",
    "Python is a high-level, interpreted, and general-purpose programming language that is widely used for web development, data analysis, artificial intelligence, scientific computing, and more. It is designed to be easy to read and write, with a syntax that allows developers to express concepts in fewer lines of code than might be used in languages such as C++ or Java.\n",
    "        "
   ]
  },
  {
   "cell_type": "markdown",
   "id": "8c6a45a1",
   "metadata": {},
   "source": [
    "\n",
    "## Python Data Types\n",
    "\n",
    "Python has a variety of data types including integers, float (decimal numbers), strings (text), and booleans (True or False). Here are examples of each:\n",
    "        "
   ]
  },
  {
   "cell_type": "code",
   "execution_count": 1,
   "id": "26544d3c",
   "metadata": {},
   "outputs": [
    {
     "name": "stdout",
     "output_type": "stream",
     "text": [
      "Integer: 10\n",
      "Float: 10.5\n",
      "String: Hello, Python!\n",
      "Boolean: True\n"
     ]
    }
   ],
   "source": [
    "\n",
    "# Example of Python data types\n",
    "integer_example = 10\n",
    "float_example = 10.5\n",
    "string_example = \"Hello, Python!\"\n",
    "boolean_example = True\n",
    "\n",
    "print(f\"Integer: {integer_example}\")\n",
    "print(f\"Float: {float_example}\")\n",
    "print(f\"String: {string_example}\")\n",
    "print(f\"Boolean: {boolean_example}\")\n",
    "        "
   ]
  },
  {
   "cell_type": "markdown",
   "id": "777b296b",
   "metadata": {},
   "source": [
    "\n",
    "## Python Lists\n",
    "\n",
    "A list in Python is used to store a collection of items. It is ordered, mutable (can be changed), and allows duplicate elements.\n",
    "        "
   ]
  },
  {
   "cell_type": "code",
   "execution_count": 2,
   "id": "c2d673b1",
   "metadata": {},
   "outputs": [
    {
     "name": "stdout",
     "output_type": "stream",
     "text": [
      "[1, 'Hello', 3.14, True]\n"
     ]
    }
   ],
   "source": [
    "\n",
    "# Example of a Python list\n",
    "my_list = [1, \"Hello\", 3.14, True]\n",
    "print(my_list)\n",
    "        "
   ]
  },
  {
   "cell_type": "markdown",
   "id": "5043fb9d",
   "metadata": {},
   "source": [
    "\n",
    "## List Operation Functions\n",
    "\n",
    "Python provides several methods to manipulate lists, such as adding, removing, or modifying elements.\n",
    "        "
   ]
  },
  {
   "cell_type": "code",
   "execution_count": 3,
   "id": "7e4fbe43",
   "metadata": {},
   "outputs": [
    {
     "name": "stdout",
     "output_type": "stream",
     "text": [
      "After appending: [1, 'Hello', 3.14, True, 'Python']\n",
      "After removing: [1, 'Hello', True, 'Python']\n"
     ]
    }
   ],
   "source": [
    "\n",
    "# Adding an element to a list\n",
    "my_list.append(\"Python\")\n",
    "print(\"After appending:\", my_list)\n",
    "\n",
    "# Removing an element from a list\n",
    "my_list.remove(3.14)\n",
    "print(\"After removing:\", my_list)\n",
    "        "
   ]
  },
  {
   "cell_type": "markdown",
   "id": "0f2168a9",
   "metadata": {},
   "source": [
    "\n",
    "## Conditional Statements\n",
    "\n",
    "Conditional statements in Python are used to execute code based on a particular condition. The most commonly used conditional statements are `if`, `elif`, and `else`.\n",
    "        "
   ]
  },
  {
   "cell_type": "code",
   "execution_count": 4,
   "id": "fec18e76",
   "metadata": {},
   "outputs": [
    {
     "name": "stdout",
     "output_type": "stream",
     "text": [
      "Positive number\n"
     ]
    }
   ],
   "source": [
    "\n",
    "# Example of conditional statements\n",
    "number = 10\n",
    "if number > 0:\n",
    "    print(\"Positive number\")\n",
    "elif number == 0:\n",
    "    print(\"Zero\")\n",
    "else:\n",
    "    print(\"Negative number\")\n",
    "        "
   ]
  },
  {
   "cell_type": "markdown",
   "id": "a9d6940f",
   "metadata": {},
   "source": [
    "\n",
    "## For Loop\n",
    "\n",
    "A `for` loop in Python is used to iterate over a sequence (such as a list, tuple, dictionary, set, or string) and execute a block of code for each item in the sequence.\n",
    "        "
   ]
  },
  {
   "cell_type": "code",
   "execution_count": 5,
   "id": "85d37aa7",
   "metadata": {},
   "outputs": [
    {
     "name": "stdout",
     "output_type": "stream",
     "text": [
      "apple\n",
      "banana\n",
      "cherry\n"
     ]
    }
   ],
   "source": [
    "\n",
    "# Example of a for loop\n",
    "fruits = [\"apple\", \"banana\", \"cherry\"]\n",
    "for fruit in fruits:\n",
    "    print(fruit)\n",
    "        "
   ]
  },
  {
   "cell_type": "markdown",
   "id": "4f5cc910",
   "metadata": {},
   "source": [
    "\n",
    "## Functions\n",
    "\n",
    "Functions in Python are blocks of code that are designed to do one specific job. When you want to perform a particular task that you’ve defined in a function, you call the function responsible for it.\n",
    "        "
   ]
  },
  {
   "cell_type": "code",
   "execution_count": 6,
   "id": "3214c592",
   "metadata": {},
   "outputs": [
    {
     "name": "stdout",
     "output_type": "stream",
     "text": [
      "Hello, Python!\n"
     ]
    }
   ],
   "source": [
    "\n",
    "# Example of a function\n",
    "def greet(name):\n",
    "    return f\"Hello, {name}!\"\n",
    "\n",
    "print(greet(\"Python\"))\n",
    "        "
   ]
  },
  {
   "cell_type": "markdown",
   "id": "a4dc68ae",
   "metadata": {},
   "source": [
    "\n",
    "# Introduction to Numpy\n",
    "\n",
    "NumPy is a library for the Python programming language, adding support for large, multi-dimensional arrays and matrices, along with a large collection of high-level mathematical functions to operate on these arrays.\n",
    "        "
   ]
  },
  {
   "cell_type": "code",
   "execution_count": 8,
   "id": "e87f0c89",
   "metadata": {},
   "outputs": [
    {
     "name": "stdout",
     "output_type": "stream",
     "text": [
      "Defaulting to user installation because normal site-packages is not writeable\n",
      "Collecting numpy\n",
      "  Downloading numpy-1.26.4-cp39-cp39-macosx_11_0_arm64.whl (14.0 MB)\n",
      "\u001b[K     |████████████████████████████████| 14.0 MB 381 kB/s eta 0:00:01     |████████████████████████▊       | 10.8 MB 589 kB/s eta 0:00:06\n",
      "\u001b[?25hInstalling collected packages: numpy\n",
      "Successfully installed numpy-1.26.4\n",
      "\u001b[33mWARNING: You are using pip version 21.2.4; however, version 24.0 is available.\n",
      "You should consider upgrading via the '/Library/Developer/CommandLineTools/usr/bin/python3 -m pip install --upgrade pip' command.\u001b[0m\n",
      "Note: you may need to restart the kernel to use updated packages.\n"
     ]
    }
   ],
   "source": [
    "pip install numpy"
   ]
  },
  {
   "cell_type": "code",
   "execution_count": 11,
   "id": "49cd22b6",
   "metadata": {},
   "outputs": [
    {
     "name": "stdout",
     "output_type": "stream",
     "text": [
      "Array: [1 2 3]\n",
      "Type of a: <class 'numpy.ndarray'>\n"
     ]
    }
   ],
   "source": [
    "\n",
    "# Basic NumPy example\n",
    "import numpy as np\n",
    "\n",
    "a = np.array([1, 2, 3])\n",
    "print(\"Array:\", a)\n",
    "print(\"Type of a:\", type(a))\n",
    "        "
   ]
  },
  {
   "cell_type": "markdown",
   "id": "fc4c7319",
   "metadata": {},
   "source": [
    "\n",
    "# Introduction to Pandas\n",
    "\n",
    "Pandas is a library written for the Python programming language for data manipulation and analysis. In particular, it offers data structures and operations for manipulating numerical tables and time series.\n",
    "        "
   ]
  },
  {
   "cell_type": "code",
   "execution_count": 13,
   "id": "57143fe6",
   "metadata": {},
   "outputs": [
    {
     "name": "stdout",
     "output_type": "stream",
     "text": [
      "Defaulting to user installation because normal site-packages is not writeable\n",
      "Collecting pandas\n",
      "  Downloading pandas-2.2.1-cp39-cp39-macosx_11_0_arm64.whl (11.3 MB)\n",
      "\u001b[K     |████████████████████████████████| 11.3 MB 411 kB/s eta 0:00:01    |███████▋                        | 2.7 MB 230 kB/s eta 0:00:38     |███████████████▍                | 5.4 MB 231 kB/s eta 0:00:26\n",
      "\u001b[?25hRequirement already satisfied: python-dateutil>=2.8.2 in /Users/pratikroy/Library/Python/3.9/lib/python/site-packages (from pandas) (2.8.2)\n",
      "Requirement already satisfied: numpy<2,>=1.22.4 in /Users/pratikroy/Library/Python/3.9/lib/python/site-packages (from pandas) (1.26.4)\n",
      "Collecting tzdata>=2022.7\n",
      "  Downloading tzdata-2024.1-py2.py3-none-any.whl (345 kB)\n",
      "\u001b[K     |████████████████████████████████| 345 kB 345 kB/s eta 0:00:01\n",
      "\u001b[?25hCollecting pytz>=2020.1\n",
      "  Downloading pytz-2024.1-py2.py3-none-any.whl (505 kB)\n",
      "\u001b[K     |████████████████████████████████| 505 kB 591 kB/s eta 0:00:01\n",
      "\u001b[?25hRequirement already satisfied: six>=1.5 in /Library/Developer/CommandLineTools/Library/Frameworks/Python3.framework/Versions/3.9/lib/python3.9/site-packages (from python-dateutil>=2.8.2->pandas) (1.15.0)\n",
      "Installing collected packages: tzdata, pytz, pandas\n",
      "Successfully installed pandas-2.2.1 pytz-2024.1 tzdata-2024.1\n",
      "\u001b[33mWARNING: You are using pip version 21.2.4; however, version 24.0 is available.\n",
      "You should consider upgrading via the '/Library/Developer/CommandLineTools/usr/bin/python3 -m pip install --upgrade pip' command.\u001b[0m\n",
      "Note: you may need to restart the kernel to use updated packages.\n"
     ]
    }
   ],
   "source": [
    "pip install pandas"
   ]
  },
  {
   "cell_type": "code",
   "execution_count": 14,
   "id": "3c1f96ad",
   "metadata": {},
   "outputs": [
    {
     "name": "stdout",
     "output_type": "stream",
     "text": [
      "    Name  Age\n",
      "0   John   28\n",
      "1   Anna   34\n",
      "2  Peter   29\n",
      "3  Linda   32\n"
     ]
    }
   ],
   "source": [
    "\n",
    "# Basic Pandas example\n",
    "import pandas as pd\n",
    "\n",
    "data = {'Name': ['John', 'Anna', 'Peter', 'Linda'],\n",
    "        'Age': [28, 34, 29, 32]}\n",
    "df = pd.DataFrame(data)\n",
    "\n",
    "print(df)\n",
    "        "
   ]
  },
  {
   "cell_type": "markdown",
   "id": "eef05627",
   "metadata": {},
   "source": [
    "\n",
    "# Introduction to Sci-Kit Learn\n",
    "\n",
    "Scikit-learn is a library in Python that provides many unsupervised and supervised learning algorithms. It is built upon NumPy, SciPy, and Matplotlib.\n",
    "        "
   ]
  },
  {
   "cell_type": "markdown",
   "id": "6cc11767",
   "metadata": {},
   "source": [
    "\n",
    "# Neural Networks: An Intuitive Understanding\n",
    "\n",
    "Neural networks are a set of algorithms, modeled loosely after the human brain, that are designed to recognize patterns. They interpret sensory data through a kind of machine perception, labeling, or clustering raw input.\n",
    "\n",
    "![alt text](/Users/pratikroy/IoT_workshop_VIT/Session_4/neural_network_vs_brain.webp)\n"
   ]
  },
  {
   "cell_type": "markdown",
   "id": "a27da623",
   "metadata": {},
   "source": [
    "\n",
    "## Backpropagation Algorithm\n",
    "\n",
    "Backpropagation is a method used in artificial neural networks to calculate a gradient that is needed in the calculation of the weights to be used in the network. It is the backbone of learning in neural networks.\n",
    "        "
   ]
  },
  {
   "cell_type": "markdown",
   "id": "fd16c669",
   "metadata": {},
   "source": [
    "\n",
    "# Unsupervised Learning: KNN\n",
    "\n",
    "K-Nearest Neighbors (KNN) is a simple, easy-to-implement supervised machine learning algorithm that can be used to solve both classification and regression problems. However, it is more widely used in classification problems in the industry.\n",
    "        "
   ]
  },
  {
   "cell_type": "markdown",
   "id": "9c508c04",
   "metadata": {},
   "source": [
    "\n",
    "## Train Set, Test Set\n",
    "\n",
    "In machine learning, we need to divide our dataset into a training set and a test set. The training set is used to train the model, and the test set is used to evaluate how well the model performs.\n",
    "        "
   ]
  },
  {
   "cell_type": "markdown",
   "id": "96d9d54c",
   "metadata": {},
   "source": [
    "\n",
    "## Multi-class Training\n",
    "\n",
    "Multi-class classification refers to those classification tasks that have more than two class labels. Unlike binary classification, multi-class classification does not have a constraint on the number of classes the problem can have.\n",
    "        "
   ]
  }
 ],
 "metadata": {
  "kernelspec": {
   "display_name": "Python 3",
   "language": "python",
   "name": "python3"
  },
  "language_info": {
   "codemirror_mode": {
    "name": "ipython",
    "version": 3
   },
   "file_extension": ".py",
   "mimetype": "text/x-python",
   "name": "python",
   "nbconvert_exporter": "python",
   "pygments_lexer": "ipython3",
   "version": "3.9.6"
  }
 },
 "nbformat": 4,
 "nbformat_minor": 5
}
